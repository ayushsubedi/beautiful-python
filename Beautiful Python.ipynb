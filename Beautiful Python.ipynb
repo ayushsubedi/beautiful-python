{
 "cells": [
  {
   "cell_type": "markdown",
   "metadata": {},
   "source": [
    "### The content of the notebook is based on \"Transforming Code into Beautiful, Idiomatic Python\" by Raymond Hettinger. \n",
    "https://www.youtube.com/watch?v=OSGv2VnC0go"
   ]
  },
  {
   "cell_type": "markdown",
   "metadata": {},
   "source": [
    "## Contents\n",
    "- Looping over a range of functions\n",
    "- Looping over a collection\n",
    "- Looping backwards\n",
    "- Looping over a collection of indicies\n",
    "- Looping over two collections\n",
    "- Looping in sorted order\n",
    "- Custom sort order\n",
    "- Call a function until a sentinel value\n",
    "- Distinguishing multiple exit points in loops\n",
    "- Looping over dictionary keys\n",
    "- Looping over dictionary keys and values\n",
    "- Construct a dictionary from pairs\n",
    "- Counting with dictionaries\n",
    "- Grouping with dictionaries\n",
    "- Is a dictionary pop() atomic?\n",
    "- Linking dictionaries\n",
    "- Clarify function calls with keyword arguments\n",
    "- Clarify multiple return values with named tuples\n",
    "- Unpacking sequences\n",
    "- Updating multiple state variables\n",
    "- Simultaneous state updates\n",
    "- Concatenating strings\n",
    "- Updating sequences\n",
    "- Using decorators to factor-out administrative logic\n",
    "- Caching decorator\n",
    "- Factor-out temporary contexts for decimal\n",
    "- How to open and close files\n",
    "- How to use locks\n",
    "- Factor-out temporary contexts\n",
    "- Context manager: redirect_stdout()\n",
    "- Concise expressive one-liners﻿"
   ]
  },
  {
   "cell_type": "markdown",
   "metadata": {},
   "source": [
    "### Looping over a range of functions"
   ]
  },
  {
   "cell_type": "code",
   "execution_count": null,
   "metadata": {
    "collapsed": true
   },
   "outputs": [],
   "source": []
  }
 ],
 "metadata": {
  "kernelspec": {
   "display_name": "Python 3",
   "language": "python",
   "name": "python3"
  },
  "language_info": {
   "codemirror_mode": {
    "name": "ipython",
    "version": 3
   },
   "file_extension": ".py",
   "mimetype": "text/x-python",
   "name": "python",
   "nbconvert_exporter": "python",
   "pygments_lexer": "ipython3",
   "version": "3.6.3"
  }
 },
 "nbformat": 4,
 "nbformat_minor": 2
}
